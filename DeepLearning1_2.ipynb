{
  "nbformat": 4,
  "nbformat_minor": 0,
  "metadata": {
    "colab": {
      "provenance": [],
      "authorship_tag": "ABX9TyOHjbrgWaCj7u6B9/OnFSNw",
      "include_colab_link": true
    },
    "kernelspec": {
      "name": "python3",
      "display_name": "Python 3"
    },
    "language_info": {
      "name": "python"
    }
  },
  "cells": [
    {
      "cell_type": "markdown",
      "metadata": {
        "id": "view-in-github",
        "colab_type": "text"
      },
      "source": [
        "<a href=\"https://colab.research.google.com/github/rkverma2022/C-Programm/blob/main/DeepLearning1_2.ipynb\" target=\"_parent\"><img src=\"https://colab.research.google.com/assets/colab-badge.svg\" alt=\"Open In Colab\"/></a>"
      ]
    },
    {
      "cell_type": "markdown",
      "source": [
        "#Deep Learning 1.2"
      ],
      "metadata": {
        "id": "HywwlXpWYhyY"
      }
    },
    {
      "cell_type": "markdown",
      "source": [
        "\n",
        "\n",
        "   Dense Layer\n",
        "\n",
        "\n"
      ],
      "metadata": {
        "id": "pjnBQyiMYsnS"
      }
    },
    {
      "cell_type": "markdown",
      "source": [
        "#How a Dense Layer Look"
      ],
      "metadata": {
        "id": "WJ_4OG5OSe-T"
      }
    },
    {
      "cell_type": "code",
      "source": [
        "import tensorflow as tf\n",
        "import numpy as np\n",
        "import math \n",
        "class mydenselayer(tf.keras.layers.Layer):\n",
        "  def __init__(self, input_dim, output_dim):\n",
        "    super(mydenselayer, self).__init__()\n",
        "\n",
        "    #initializing weights and bias\n",
        "    self.w = self.add_weight([input_dim, output_dim])\n",
        "    self.b = self.add_weight([1,output_dim])\n",
        "\n",
        "    def call(self, inputs):\n",
        "      #forward propagate the inputs\n",
        "      #matric multiplication\n",
        "      z = tf.matmul(inputs, self.w) + self.b\n",
        "      \n",
        "      #feed through a non-linear activation\n",
        "      output = tf.math.sigmoid(z, name=\"sigmoid\")\n",
        "      return output\n",
        "\n"
      ],
      "metadata": {
        "id": "p0N3j6gkYpw4"
      },
      "execution_count": 2,
      "outputs": []
    },
    {
      "cell_type": "markdown",
      "source": [
        "#In tensorflow dense layer module is already given:\n",
        "*See how to use it*\n",
        "\n",
        "1.   Single Layer Deep Neural Network\n",
        "2.   Multilayer Deep Neural Network\n",
        "\n"
      ],
      "metadata": {
        "id": "bPzlKDAXSnfA"
      }
    },
    {
      "cell_type": "markdown",
      "source": [
        "\n",
        "\n",
        "\n",
        "**1. Single Layer Deep Neural Network**\n"
      ],
      "metadata": {
        "id": "uXqAL6BjUnY8"
      }
    },
    {
      "cell_type": "code",
      "source": [
        "import tensorflow as tf\n",
        "n = 5 #number of o/p of hidden layer\n",
        "model = tf.keras.Sequential([tf.keras.layers.Dense(n), tf.keras.layers.Dense(2)])\n"
      ],
      "metadata": {
        "id": "iqdOb4xbSv6X"
      },
      "execution_count": 5,
      "outputs": []
    },
    {
      "cell_type": "markdown",
      "source": [
        "**2. Multilayer Deep Neural Network**"
      ],
      "metadata": {
        "id": "CB5NJm0hU4mr"
      }
    },
    {
      "cell_type": "code",
      "source": [
        "import tensorflow as tf\n",
        "#Let first hidden layer consisting of n_1, o/p, and second: n_2 and third : n_3\n",
        "#there are two final o/p\n",
        "n_1 = 5; n_2 = 10; n_3 = 4;\n",
        "model = tf.keras.Sequential([tf.keras.layers.Dense(n_1),tf.keras.layers.Dense(n_2),tf.keras.layers.Dense(n_3),tf.keras.layers.Dense(2)])"
      ],
      "metadata": {
        "id": "g-YAif4JU-tM"
      },
      "execution_count": 6,
      "outputs": []
    }
  ]
}